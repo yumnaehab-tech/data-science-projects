{
  "nbformat": 4,
  "nbformat_minor": 0,
  "metadata": {
    "colab": {
      "provenance": [],
      "toc_visible": true,
      "authorship_tag": "ABX9TyMIVQZDHaCX7iUHvtsx6dTv",
      "include_colab_link": true
    },
    "kernelspec": {
      "name": "python3",
      "display_name": "Python 3"
    },
    "language_info": {
      "name": "python"
    }
  },
  "cells": [
    {
      "cell_type": "markdown",
      "metadata": {
        "id": "view-in-github",
        "colab_type": "text"
      },
      "source": [
        "<a href=\"https://colab.research.google.com/github/yumnaehab-tech/data-science-projects/blob/main/Titanic_Classification_Yumna.ipynb\" target=\"_parent\"><img src=\"https://colab.research.google.com/assets/colab-badge.svg\" alt=\"Open In Colab\"/></a>"
      ]
    },
    {
      "cell_type": "code",
      "execution_count": null,
      "metadata": {
        "colab": {
          "base_uri": "https://localhost:8080/",
          "height": 1000
        },
        "id": "YE2nkv4CUUXx",
        "outputId": "721e1b69-adf7-491b-b828-585403b55864"
      },
      "outputs": [
        {
          "output_type": "stream",
          "name": "stdout",
          "text": [
            "Dataset shape: (891, 15)\n",
            "   survived  pclass     sex   age  sibsp  parch     fare embarked  class  \\\n",
            "0         0       3    male  22.0      1      0   7.2500        S  Third   \n",
            "1         1       1  female  38.0      1      0  71.2833        C  First   \n",
            "2         1       3  female  26.0      0      0   7.9250        S  Third   \n",
            "\n",
            "     who  adult_male deck  embark_town alive  alone  \n",
            "0    man        True  NaN  Southampton    no  False  \n",
            "1  woman       False    C    Cherbourg   yes  False  \n",
            "2  woman       False  NaN  Southampton   yes   True  \n",
            "\n",
            "Missing values:\n",
            " survived         0\n",
            "pclass           0\n",
            "sex              0\n",
            "age            177\n",
            "sibsp            0\n",
            "parch            0\n",
            "fare             0\n",
            "embarked         2\n",
            "class            0\n",
            "who              0\n",
            "adult_male       0\n",
            "deck           688\n",
            "embark_town      2\n",
            "alive            0\n",
            "alone            0\n",
            "dtype: int64\n",
            "\n",
            "Data after encoding:\n",
            "    survived  pclass   age  sibsp  parch     fare  adult_male  sex_male  \\\n",
            "0         0       3  22.0      1      0   7.2500        True      True   \n",
            "1         1       1  38.0      1      0  71.2833       False     False   \n",
            "\n",
            "   embarked_Q  embarked_S  class_Second  class_Third  who_man  who_woman  \\\n",
            "0       False        True         False         True     True      False   \n",
            "1       False       False         False        False    False       True   \n",
            "\n",
            "   alone_True  \n",
            "0       False  \n",
            "1       False  \n",
            "\n",
            "Model accuracy: 81.01 %\n",
            "\n",
            "Classification Report:\n",
            "               precision    recall  f1-score   support\n",
            "\n",
            "           0       0.82      0.87      0.84       105\n",
            "           1       0.79      0.73      0.76        74\n",
            "\n",
            "    accuracy                           0.81       179\n",
            "   macro avg       0.81      0.80      0.80       179\n",
            "weighted avg       0.81      0.81      0.81       179\n",
            "\n"
          ]
        },
        {
          "output_type": "stream",
          "name": "stderr",
          "text": [
            "/tmp/ipython-input-3262171401.py:27: FutureWarning: A value is trying to be set on a copy of a DataFrame or Series through chained assignment using an inplace method.\n",
            "The behavior will change in pandas 3.0. This inplace method will never work because the intermediate object on which we are setting values always behaves as a copy.\n",
            "\n",
            "For example, when doing 'df[col].method(value, inplace=True)', try using 'df.method({col: value}, inplace=True)' or df[col] = df[col].method(value) instead, to perform the operation inplace on the original object.\n",
            "\n",
            "\n",
            "  data[\"age\"].fillna(data[\"age\"].median(), inplace=True)\n",
            "/tmp/ipython-input-3262171401.py:30: FutureWarning: A value is trying to be set on a copy of a DataFrame or Series through chained assignment using an inplace method.\n",
            "The behavior will change in pandas 3.0. This inplace method will never work because the intermediate object on which we are setting values always behaves as a copy.\n",
            "\n",
            "For example, when doing 'df[col].method(value, inplace=True)', try using 'df.method({col: value}, inplace=True)' or df[col] = df[col].method(value) instead, to perform the operation inplace on the original object.\n",
            "\n",
            "\n",
            "  data[\"embarked\"].fillna(data[\"embarked\"].mode()[0], inplace=True)\n"
          ]
        },
        {
          "output_type": "display_data",
          "data": {
            "text/plain": [
              "<Figure size 640x480 with 2 Axes>"
            ],
            "image/png": "[encoded data removed]"
          },
          "metadata": {}
        },
        {
          "output_type": "stream",
          "name": "stdout",
          "text": [
            "\n",
            "The model performed decently. Most important features seem to be gender and passenger class.\n",
            "Next step: try feature scaling or Random Forest to see if accuracy improves.\n"
          ]
        }
      ],
      "source": [
        "# ===============================\n",
        "# Titanic Survival Prediction\n",
        "# Created by Yumna Ehab\n",
        "# ===============================\n",
        "# --- Step 1: Basic Imports ---\n",
        "import pandas as pd\n",
        "import numpy as np\n",
        "import seaborn as sns\n",
        "import matplotlib.pyplot as plt\n",
        "\n",
        "# ML Tools\n",
        "from sklearn.model_selection import train_test_split\n",
        "from sklearn.linear_model import LogisticRegression\n",
        "from sklearn.metrics import accuracy_score, confusion_matrix, classification_report\n",
        "\n",
        "# --- Step 2: Load and explore data ---\n",
        "# Using Seaborn's Titanic dataset (you can replace with your own CSV)\n",
        "data = sns.load_dataset(\"titanic\")\n",
        "print(\"Dataset shape:\", data.shape)\n",
        "print(data.head(3))  # just to check first few rows\n",
        "\n",
        "# --- Step 3: Handle missing values ---\n",
        "# Check how many missing values we have\n",
        "print(\"\\nMissing values:\\n\", data.isnull().sum())\n",
        "\n",
        "# I'll fill missing ages with the median\n",
        "data[\"age\"].fillna(data[\"age\"].median(), inplace=True)\n",
        "\n",
        "# Embarked (port) — fill missing with the most common one\n",
        "data[\"embarked\"].fillna(data[\"embarked\"].mode()[0], inplace=True)\n",
        "\n",
        "# Drop useless columns for now\n",
        "data.drop([\"deck\", \"embark_town\", \"alive\"], axis=1, inplace=True)\n",
        "\n",
        "# --- Step 4: Convert categorical features ---\n",
        "# Turn text categories into numbers\n",
        "data = pd.get_dummies(data, columns=[\"sex\", \"embarked\", \"class\", \"who\", \"alone\"], drop_first=True)\n",
        "\n",
        "print(\"\\nData after encoding:\\n\", data.head(2))\n",
        "\n",
        "# --- Step 5: Define features and target ---\n",
        "X = data.drop(\"survived\", axis=1)\n",
        "y = data[\"survived\"]\n",
        "\n",
        "# --- Step 6: Split into train/test sets ---\n",
        "X_train, X_test, y_train, y_test = train_test_split(X, y, test_size=0.2, random_state=42)\n",
        "\n",
        "# --- Step 7: Train the model ---\n",
        "model = LogisticRegression(max_iter=500)\n",
        "model.fit(X_train, y_train)\n",
        "\n",
        "# --- Step 8: Make predictions and evaluate ---\n",
        "y_pred = model.predict(X_test)\n",
        "\n",
        "acc = accuracy_score(y_test, y_pred)\n",
        "print(\"\\nModel accuracy:\", round(acc*100, 2), \"%\")\n",
        "\n",
        "print(\"\\nClassification Report:\\n\", classification_report(y_test, y_pred))\n",
        "\n",
        "# --- Step 9: Quick look at confusion matrix ---\n",
        "cm = confusion_matrix(y_test, y_pred)\n",
        "sns.heatmap(cm, annot=True, cmap=\"Blues\", fmt=\"d\")\n",
        "plt.title(\"Confusion Matrix\")\n",
        "plt.xlabel(\"Predicted\")\n",
        "plt.ylabel(\"Actual\")\n",
        "plt.show()\n",
        "\n",
        "# --- Step 10: Final Notes ---\n",
        "print(\"\\nThe model performed decently. Most important features seem to be gender and passenger class.\")\n",
        "print(\"Next step: try feature scaling or Random Forest to see if accuracy improves.\")\n"
      ]
    }
  ]
}