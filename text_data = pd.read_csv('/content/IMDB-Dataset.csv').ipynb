{
  "nbformat": 4,
  "nbformat_minor": 0,
  "metadata": {
    "colab": {
      "provenance": [],
      "authorship_tag": "ABX9TyPWv/2xE2tY8twSeYdIBtvN",
      "include_colab_link": true
    },
    "kernelspec": {
      "name": "python3",
      "display_name": "Python 3"
    },
    "language_info": {
      "name": "python"
    }
  },
  "cells": [
    {
      "cell_type": "markdown",
      "metadata": {
        "id": "view-in-github",
        "colab_type": "text"
      },
      "source": [
        "<a href=\"https://colab.research.google.com/github/yumnaehab-tech/data-science-projects/blob/main/text_data%20%3D%20pd.read_csv('/content/IMDB-Dataset.csv').ipynb\" target=\"_parent\"><img src=\"https://colab.research.google.com/assets/colab-badge.svg\" alt=\"Open In Colab\"/></a>"
      ]
    },
    {
      "cell_type": "code",
      "source": [
        "# Text + Image Classification\n"
      ],
      "metadata": {
        "id": "VK64jzLoUkJe"
      },
      "execution_count": 1,
      "outputs": []
    },
    {
      "cell_type": "code",
      "source": [
        "import pandas as pd\n",
        "import zipfile\n",
        "from google.colab import files"
      ],
      "metadata": {
        "id": "HwSWgQ0bbaja"
      },
      "execution_count": 2,
      "outputs": []
    },
    {
      "cell_type": "code",
      "source": [
        "\n",
        "uploaded = files.upload()"
      ],
      "metadata": {
        "colab": {
          "base_uri": "https://localhost:8080/",
          "height": 73
        },
        "id": "cPPDuJbUcUu0",
        "outputId": "56ecee66-183d-48dd-bd9d-2dc1b05276be"
      },
      "execution_count": 3,
      "outputs": [
        {
          "output_type": "display_data",
          "data": {
            "text/plain": [
              "<IPython.core.display.HTML object>"
            ],
            "text/html": [
              "\n",
              "     <input type=\"file\" id=\"files-34a5d568-9dad-48a4-900d-b6eb56d39a8c\" name=\"files[]\" multiple disabled\n",
              "        style=\"border:none\" />\n",
              "     <output id=\"result-34a5d568-9dad-48a4-900d-b6eb56d39a8c\">\n",
              "      Upload widget is only available when the cell has been executed in the\n",
              "      current browser session. Please rerun this cell to enable.\n",
              "      </output>\n",
              "      <script>// Copyright 2017 Google LLC\n",
              "//\n",
              "// Licensed under the Apache License, Version 2.0 (the \"License\");\n",
              "// you may not use this file except in compliance with the License.\n",
              "// You may obtain a copy of the License at\n",
              "//\n",
              "//      http://www.apache.org/licenses/LICENSE-2.0\n",
              "//\n",
              "// Unless required by applicable law or agreed to in writing, software\n",
              "// distributed under the License is distributed on an \"AS IS\" BASIS,\n",
              "// WITHOUT WARRANTIES OR CONDITIONS OF ANY KIND, either express or implied.\n",
              "// See the License for the specific language governing permissions and\n",
              "// limitations under the License.\n",
              "\n",
              "/**\n",
              " * @fileoverview Helpers for google.colab Python module.\n",
              " */\n",
              "(function(scope) {\n",
              "function span(text, styleAttributes = {}) {\n",
              "  const element = document.createElement('span');\n",
              "  element.textContent = text;\n",
              "  for (const key of Object.keys(styleAttributes)) {\n",
              "    element.style[key] = styleAttributes[key];\n",
              "  }\n",
              "  return element;\n",
              "}\n",
              "\n",
              "// Max number of bytes which will be uploaded at a time.\n",
              "const MAX_PAYLOAD_SIZE = 100 * 1024;\n",
              "\n",
              "function _uploadFiles(inputId, outputId) {\n",
              "  const steps = uploadFilesStep(inputId, outputId);\n",
              "  const outputElement = document.getElementById(outputId);\n",
              "  // Cache steps on the outputElement to make it available for the next call\n",
              "  // to uploadFilesContinue from Python.\n",
              "  outputElement.steps = steps;\n",
              "\n",
              "  return _uploadFilesContinue(outputId);\n",
              "}\n",
              "\n",
              "// This is roughly an async generator (not supported in the browser yet),\n",
              "// where there are multiple asynchronous steps and the Python side is going\n",
              "// to poll for completion of each step.\n",
              "// This uses a Promise to block the python side on completion of each step,\n",
              "// then passes the result of the previous step as the input to the next step.\n",
              "function _uploadFilesContinue(outputId) {\n",
              "  const outputElement = document.getElementById(outputId);\n",
              "  const steps = outputElement.steps;\n",
              "\n",
              "  const next = steps.next(outputElement.lastPromiseValue);\n",
              "  return Promise.resolve(next.value.promise).then((value) => {\n",
              "    // Cache the last promise value to make it available to the next\n",
              "    // step of the generator.\n",
              "    outputElement.lastPromiseValue = value;\n",
              "    return next.value.response;\n",
              "  });\n",
              "}\n",
              "\n",
              "/**\n",
              " * Generator function which is called between each async step of the upload\n",
              " * process.\n",
              " * @param {string} inputId Element ID of the input file picker element.\n",
              " * @param {string} outputId Element ID of the output display.\n",
              " * @return {!Iterable<!Object>} Iterable of next steps.\n",
              " */\n",
              "function* uploadFilesStep(inputId, outputId) {\n",
              "  const inputElement = document.getElementById(inputId);\n",
              "  inputElement.disabled = false;\n",
              "\n",
              "  const outputElement = document.getElementById(outputId);\n",
              "  outputElement.innerHTML = '';\n",
              "\n",
              "  const pickedPromise = new Promise((resolve) => {\n",
              "    inputElement.addEventListener('change', (e) => {\n",
              "      resolve(e.target.files);\n",
              "    });\n",
              "  });\n",
              "\n",
              "  const cancel = document.createElement('button');\n",
              "  inputElement.parentElement.appendChild(cancel);\n",
              "  cancel.textContent = 'Cancel upload';\n",
              "  const cancelPromise = new Promise((resolve) => {\n",
              "    cancel.onclick = () => {\n",
              "      resolve(null);\n",
              "    };\n",
              "  });\n",
              "\n",
              "  // Wait for the user to pick the files.\n",
              "  const files = yield {\n",
              "    promise: Promise.race([pickedPromise, cancelPromise]),\n",
              "    response: {\n",
              "      action: 'starting',\n",
              "    }\n",
              "  };\n",
              "\n",
              "  cancel.remove();\n",
              "\n",
              "  // Disable the input element since further picks are not allowed.\n",
              "  inputElement.disabled = true;\n",
              "\n",
              "  if (!files) {\n",
              "    return {\n",
              "      response: {\n",
              "        action: 'complete',\n",
              "      }\n",
              "    };\n",
              "  }\n",
              "\n",
              "  for (const file of files) {\n",
              "    const li = document.createElement('li');\n",
              "    li.append(span(file.name, {fontWeight: 'bold'}));\n",
              "    li.append(span(\n",
              "        `(${file.type || 'n/a'}) - ${file.size} bytes, ` +\n",
              "        `last modified: ${\n",
              "            file.lastModifiedDate ? file.lastModifiedDate.toLocaleDateString() :\n",
              "                                    'n/a'} - `));\n",
              "    const percent = span('0% done');\n",
              "    li.appendChild(percent);\n",
              "\n",
              "    outputElement.appendChild(li);\n",
              "\n",
              "    const fileDataPromise = new Promise((resolve) => {\n",
              "      const reader = new FileReader();\n",
              "      reader.onload = (e) => {\n",
              "        resolve(e.target.result);\n",
              "      };\n",
              "      reader.readAsArrayBuffer(file);\n",
              "    });\n",
              "    // Wait for the data to be ready.\n",
              "    let fileData = yield {\n",
              "      promise: fileDataPromise,\n",
              "      response: {\n",
              "        action: 'continue',\n",
              "      }\n",
              "    };\n",
              "\n",
              "    // Use a chunked sending to avoid message size limits. See b/62115660.\n",
              "    let position = 0;\n",
              "    do {\n",
              "      const length = Math.min(fileData.byteLength - position, MAX_PAYLOAD_SIZE);\n",
              "      const chunk = new Uint8Array(fileData, position, length);\n",
              "      position += length;\n",
              "\n",
              "      const base64 = btoa(String.fromCharCode.apply(null, chunk));\n",
              "      yield {\n",
              "        response: {\n",
              "          action: 'append',\n",
              "          file: file.name,\n",
              "          data: base64,\n",
              "        },\n",
              "      };\n",
              "\n",
              "      let percentDone = fileData.byteLength === 0 ?\n",
              "          100 :\n",
              "          Math.round((position / fileData.byteLength) * 100);\n",
              "      percent.textContent = `${percentDone}% done`;\n",
              "\n",
              "    } while (position < fileData.byteLength);\n",
              "  }\n",
              "\n",
              "  // All done.\n",
              "  yield {\n",
              "    response: {\n",
              "      action: 'complete',\n",
              "    }\n",
              "  };\n",
              "}\n",
              "\n",
              "scope.google = scope.google || {};\n",
              "scope.google.colab = scope.google.colab || {};\n",
              "scope.google.colab._files = {\n",
              "  _uploadFiles,\n",
              "  _uploadFilesContinue,\n",
              "};\n",
              "})(self);\n",
              "</script> "
            ]
          },
          "metadata": {}
        },
        {
          "output_type": "stream",
          "name": "stdout",
          "text": [
            "Saving archive (5).zip to archive (5).zip\n"
          ]
        }
      ]
    },
    {
      "cell_type": "code",
      "source": [
        "for fn in uploaded.keys():\n",
        "    if fn.endswith(\".zip\"):\n",
        "        with zipfile.ZipFile(fn, 'r') as zip_ref:\n",
        "            zip_ref.extractall(\"data\")\n",
        "\n",
        "        csv_path = \"data/IMDB Dataset.csv\"\n",
        "    else:\n",
        "\n",
        "        csv_path = fn"
      ],
      "metadata": {
        "id": "n0b7QTM_grcU"
      },
      "execution_count": 4,
      "outputs": []
    },
    {
      "cell_type": "code",
      "source": [
        "# Preprocessing function\n",
        "def preprocess_text(text):\n",
        "    import re\n",
        "    import string\n",
        "    from nltk.corpus import stopwords\n",
        "    stop_words = set(stopwords.words('english'))\n",
        "\n",
        "    text = text.lower()  # lowercase\n",
        "    text = re.sub(f\"[{string.punctuation}]\", \"\", text)  # remove punctuation\n",
        "    text = \" \".join([word for word in text.split() if word not in stop_words])  # remove stopwords\n",
        "    return text"
      ],
      "metadata": {
        "id": "vYQfBeK1hK_k"
      },
      "execution_count": 5,
      "outputs": []
    },
    {
      "cell_type": "code",
      "source": [
        "\n",
        "\n",
        "# IMPORTS إضافية للـ Text Preprocessing\n",
        "\n",
        "import re\n",
        "import string\n",
        "import nltk\n",
        "nltk.download('stopwords')\n",
        "from nltk.corpus import stopwords\n",
        "\n",
        "\n",
        "# Preprocessing function\n",
        "\n",
        "stop_words = set(stopwords.words('english'))  # تعريف stopwords مرة واحدة\n",
        "\n",
        "def preprocess_text(text):\n",
        "    try:\n",
        "        text = str(text).lower()  # تحويل النص لصغير\n",
        "        text = re.sub(f\"[{string.punctuation}]\", \"\", text)  # إزالة الرموز\n",
        "        text = \" \".join([word for word in text.split() if word not in stop_words])  # إزالة stopwords\n",
        "        return text\n",
        "    except:\n",
        "        return \"\"\n"
      ],
      "metadata": {
        "colab": {
          "base_uri": "https://localhost:8080/"
        },
        "id": "3RoOoihskD2s",
        "outputId": "74477199-2f6d-4060-e79a-9394c78228f9"
      },
      "execution_count": 6,
      "outputs": [
        {
          "output_type": "stream",
          "name": "stderr",
          "text": [
            "[nltk_data] Downloading package stopwords to /root/nltk_data...\n",
            "[nltk_data]   Unzipping corpora/stopwords.zip.\n"
          ]
        }
      ]
    },
    {
      "cell_type": "code",
      "source": [
        "\n",
        "\n",
        "import zipfile\n",
        "import pandas as pd\n",
        "import os\n",
        "zip_path = \"/content/archive (5).zip\"\n",
        "\n",
        "\n",
        "with zipfile.ZipFile(zip_path, 'r') as zip_ref:\n",
        "    zip_ref.extractall(\"/content\")\n",
        "\n",
        "print(\" الملفات بعد فك الضغط:\")\n",
        "print(os.listdir(\"/content\"))\n",
        "\n",
        "\n",
        "csv_path = \"/content/IMDB Dataset.csv\"\n",
        "\n",
        "# قراءة الداتا باستخدام pandas\n",
        "text_data = pd.read_csv(csv_path)\n",
        "\n",
        "#  عرض أول 5 صفوف + أسماء الأعمدة للتأكد إن كل حاجة تمام\n",
        "print(\"\\n أول 5 صفوف من البيانات:\")\n",
        "print(text_data.head())\n",
        "\n",
        "print(\"\\n أسماء الأعمدة:\")\n",
        "print(text_data.columns)\n"
      ],
      "metadata": {
        "colab": {
          "base_uri": "https://localhost:8080/"
        },
        "id": "a0MlZiaVMZC6",
        "outputId": "9ba47359-72f0-4c8a-c33f-dfeb2ae3cf30"
      },
      "execution_count": 7,
      "outputs": [
        {
          "output_type": "stream",
          "name": "stdout",
          "text": [
            " الملفات بعد فك الضغط:\n",
            "['.config', 'IMDB Dataset.csv', 'archive (5).zip', 'data', 'sample_data']\n",
            "\n",
            " أول 5 صفوف من البيانات:\n",
            "                                              review sentiment\n",
            "0  One of the other reviewers has mentioned that ...  positive\n",
            "1  A wonderful little production. <br /><br />The...  positive\n",
            "2  I thought this was a wonderful way to spend ti...  positive\n",
            "3  Basically there's a family where a little boy ...  negative\n",
            "4  Petter Mattei's \"Love in the Time of Money\" is...  positive\n",
            "\n",
            " أسماء الأعمدة:\n",
            "Index(['review', 'sentiment'], dtype='object')\n"
          ]
        }
      ]
    },
    {
      "cell_type": "code",
      "source": [
        "text_data.columns\n"
      ],
      "metadata": {
        "colab": {
          "base_uri": "https://localhost:8080/"
        },
        "id": "JKeOlt73fgym",
        "outputId": "92c58f62-1b4e-4a1c-b777-94aee0999ea6"
      },
      "execution_count": 8,
      "outputs": [
        {
          "output_type": "execute_result",
          "data": {
            "text/plain": [
              "Index(['review', 'sentiment'], dtype='object')"
            ]
          },
          "metadata": {},
          "execution_count": 8
        }
      ]
    },
    {
      "cell_type": "code",
      "source": [
        "\n",
        "# معالجة النصوص وتدريب نموذج التصنيف\n",
        "\n",
        "\n",
        "# (Preprocessing)\n",
        "import re\n",
        "import string\n",
        "from nltk.corpus import stopwords\n",
        "import nltk\n",
        "nltk.download('stopwords')\n",
        "\n",
        "stop_words = set(stopwords.words('english'))\n",
        "\n",
        "def preprocess_text(text):\n",
        "    # تحويل كل الكلام لحروف صغيرة\n",
        "    text = text.lower()\n",
        "    # إزالة علامات الترقيم\n",
        "    text = re.sub(f\"[{string.punctuation}]\", \"\", text)\n",
        "    # حذف الـ stopwords (الكلمات الشائعة اللي مالهاش معنى تحليلي)\n",
        "    text = \" \".join([word for word in text.split() if word not in stop_words])\n",
        "    return text\n",
        "\n",
        "#  تطبيق التنظيف على عمود المراجعات\n",
        "text_data['cleaned_review'] = text_data['review'].apply(preprocess_text)\n",
        "\n",
        "#  فصل الخصائص (X) عن التصنيفات (y)\n",
        "X_text = text_data['cleaned_review']\n",
        "y_text = text_data['sentiment']\n",
        "\n",
        "# تحويل النصوص لأرقام باستخدام TF-IDF\n",
        "from sklearn.feature_extraction.text import TfidfVectorizer\n",
        "tfidf = TfidfVectorizer(max_features=5000)\n",
        "X_text_features = tfidf.fit_transform(X_text)\n",
        "\n",
        "#  تقسيم البيانات لتدريب واختبار\n",
        "from sklearn.model_selection import train_test_split\n",
        "X_train_text, X_test_text, y_train_text, y_test_text = train_test_split(\n",
        "    X_text_features, y_text, test_size=0.2, random_state=42\n",
        ")\n",
        "\n",
        "#  بناء وتدريب الموديل\n",
        "from sklearn.linear_model import LogisticRegression\n",
        "text_model = LogisticRegression(max_iter=1000)\n",
        "text_model.fit(X_train_text, y_train_text)\n",
        "\n",
        "#  التنبؤ والتقييم\n",
        "from sklearn.metrics import accuracy_score, classification_report\n",
        "y_pred_text = text_model.predict(X_test_text)\n",
        "\n",
        "print(\" Text Classification Accuracy:\", accuracy_score(y_test_text, y_pred_text))\n",
        "print(\"\\n Classification Report:\\n\", classification_report(y_test_text, y_pred_text))\n"
      ],
      "metadata": {
        "colab": {
          "base_uri": "https://localhost:8080/"
        },
        "id": "WnqIsleHfBGe",
        "outputId": "cca5e81d-4093-4bf2-a189-9e4d8b7addbb"
      },
      "execution_count": 9,
      "outputs": [
        {
          "output_type": "stream",
          "name": "stderr",
          "text": [
            "[nltk_data] Downloading package stopwords to /root/nltk_data...\n",
            "[nltk_data]   Package stopwords is already up-to-date!\n"
          ]
        },
        {
          "output_type": "stream",
          "name": "stdout",
          "text": [
            " Text Classification Accuracy: 0.8881\n",
            "\n",
            " Classification Report:\n",
            "               precision    recall  f1-score   support\n",
            "\n",
            "    negative       0.90      0.87      0.89      4961\n",
            "    positive       0.88      0.90      0.89      5039\n",
            "\n",
            "    accuracy                           0.89     10000\n",
            "   macro avg       0.89      0.89      0.89     10000\n",
            "weighted avg       0.89      0.89      0.89     10000\n",
            "\n"
          ]
        }
      ]
    },
    {
      "cell_type": "code",
      "source": [
        "# Step 3 - Split data into training and testing sets\n",
        "from sklearn.model_selection import train_test_split\n",
        "\n",
        "X = text_data['cleaned_review']\n",
        "y = text_data['sentiment']\n",
        "\n",
        "X_train, X_test, y_train, y_test = train_test_split(X, y, test_size=0.2, random_state=42)\n",
        "\n",
        "print(\" Data successfully split!\")\n",
        "print(\"Training samples:\", len(X_train))\n",
        "print(\"Testing samples:\", len(X_test))\n"
      ],
      "metadata": {
        "colab": {
          "base_uri": "https://localhost:8080/"
        },
        "id": "cupM6pJohGfa",
        "outputId": "e7ca729c-b98e-492a-a95e-4ff37ecd8d36"
      },
      "execution_count": 10,
      "outputs": [
        {
          "output_type": "stream",
          "name": "stdout",
          "text": [
            " Data successfully split!\n",
            "Training samples: 40000\n",
            "Testing samples: 10000\n"
          ]
        }
      ]
    },
    {
      "cell_type": "code",
      "source": [
        "# Step 4 - تحويل النصوص لأرقام باستخدام TF-IDF\n",
        "from sklearn.feature_extraction.text import TfidfVectorizer\n",
        "\n",
        "# نحدد أقصى عدد من الكلمات المميزة اللي الموديل هيستخدمها\n",
        "tfidf = TfidfVectorizer(max_features=5000)\n",
        "\n",
        "# نحول النصوص (بعد التنظيف) إلى مميزات رقمية\n",
        "X_tfidf = tfidf.fit_transform(X_train)\n",
        "X_test_tfidf = tfidf.transform(X_test)\n",
        "\n",
        "print(\" Text successfully vectorized using TF-IDF!\")\n",
        "print(\"Shape of training data:\", X_tfidf.shape)\n",
        "print(\"Shape of test data:\", X_test_tfidf.shape)\n"
      ],
      "metadata": {
        "colab": {
          "base_uri": "https://localhost:8080/"
        },
        "id": "y2Bb8NEahVdx",
        "outputId": "2ee00629-6d17-4622-8ab4-a1a328e3eb25"
      },
      "execution_count": 11,
      "outputs": [
        {
          "output_type": "stream",
          "name": "stdout",
          "text": [
            " Text successfully vectorized using TF-IDF!\n",
            "Shape of training data: (40000, 5000)\n",
            "Shape of test data: (10000, 5000)\n"
          ]
        }
      ]
    },
    {
      "cell_type": "code",
      "source": [
        "#  تدريب نموذج التصنيف (Logistic Regression)\n",
        "from sklearn.linear_model import LogisticRegression\n",
        "\n",
        "# نختار نوع الموديل\n",
        "model = LogisticRegression(max_iter=1000)  # الماكس إتريشن عشان الموديل يتدرب كويس\n",
        "\n",
        "# ندرّب الموديل على بيانات التدريب\n",
        "model.fit(X_tfidf, y_train)\n",
        "\n",
        "print(\" Model training completed successfully!\")\n"
      ],
      "metadata": {
        "colab": {
          "base_uri": "https://localhost:8080/"
        },
        "id": "eQr3dCNKhhp0",
        "outputId": "78eb2162-04de-4e4b-ee07-3c87750a83c5"
      },
      "execution_count": 12,
      "outputs": [
        {
          "output_type": "stream",
          "name": "stdout",
          "text": [
            " Model training completed successfully!\n"
          ]
        }
      ]
    },
    {
      "cell_type": "code",
      "source": [
        "# تقييم أداء الموديل\n",
        "from sklearn.metrics import accuracy_score, classification_report\n",
        "\n",
        "# نستخدم الموديل في التوقع على بيانات الاختبار\n",
        "y_pred = model.predict(X_test_tfidf)\n",
        "\n",
        "# نحسب الدقة\n",
        "accuracy = accuracy_score(y_test, y_pred)\n",
        "print(\" Model Evaluation Completed!\")\n",
        "print(\" Accuracy:\", accuracy)\n",
        "\n",
        "# نطبع تقرير تفصيلي عن الأداء\n",
        "print(\"\\n📋 Classification Report:\")\n",
        "print(classification_report(y_test, y_pred))\n"
      ],
      "metadata": {
        "colab": {
          "base_uri": "https://localhost:8080/"
        },
        "id": "2r8gIqoQhusV",
        "outputId": "fa5ece37-1b0b-4bb8-cbe1-d738f484aa6d"
      },
      "execution_count": 13,
      "outputs": [
        {
          "output_type": "stream",
          "name": "stdout",
          "text": [
            " Model Evaluation Completed!\n",
            " Accuracy: 0.8887\n",
            "\n",
            "📋 Classification Report:\n",
            "              precision    recall  f1-score   support\n",
            "\n",
            "    negative       0.90      0.87      0.89      4961\n",
            "    positive       0.88      0.90      0.89      5039\n",
            "\n",
            "    accuracy                           0.89     10000\n",
            "   macro avg       0.89      0.89      0.89     10000\n",
            "weighted avg       0.89      0.89      0.89     10000\n",
            "\n"
          ]
        }
      ]
    },
    {
      "cell_type": "code",
      "source": [
        "#  تجربة الموديل على جمل جديدة\n",
        "def predict_sentiment(text):\n",
        "    # نطبق نفس خطوات التنظيف اللي عملناها قبل كده\n",
        "    cleaned = preprocess_text(text)\n",
        "    # نحول النص لـ TF-IDF زي اللي اتدرب عليه الموديل\n",
        "    text_tfidf = tfidf.transform([cleaned])\n",
        "    # نخلي الموديل يتنبأ\n",
        "    prediction = model.predict(text_tfidf)[0]\n",
        "    return prediction\n",
        "\n",
        "# نجرب شوية أمثلة\n",
        "sample_reviews = [\n",
        "    \"I loved this movie, it was amazing and emotional!\",\n",
        "    \"The film was boring and too long.\",\n",
        "    \"The acting was great but the story was weak.\"\n",
        "]\n",
        "\n",
        "for review in sample_reviews:\n",
        "    print(f\" Review: {review}\")\n",
        "    print(f\"Predicted Sentiment: {predict_sentiment(review)}\\n\")\n"
      ],
      "metadata": {
        "colab": {
          "base_uri": "https://localhost:8080/"
        },
        "id": "iEJyYZ2Ah8XG",
        "outputId": "5223094d-8ce7-4666-c7b4-44f910b7391d"
      },
      "execution_count": 14,
      "outputs": [
        {
          "output_type": "stream",
          "name": "stdout",
          "text": [
            " Review: I loved this movie, it was amazing and emotional!\n",
            "Predicted Sentiment: positive\n",
            "\n",
            " Review: The film was boring and too long.\n",
            "Predicted Sentiment: negative\n",
            "\n",
            " Review: The acting was great but the story was weak.\n",
            "Predicted Sentiment: negative\n",
            "\n"
          ]
        }
      ]
    },
    {
      "cell_type": "code",
      "source": [
        "#  Test the model with a custom review\n",
        "def predict_sentiment(review):\n",
        "    # Apply the same preprocessing used during training\n",
        "    cleaned = preprocess_text(review)\n",
        "\n",
        "    # Convert text into TF-IDF vector\n",
        "    review_vector = tfidf.transform([cleaned])\n",
        "\n",
        "    # Make prediction\n",
        "    prediction = text_model.predict(review_vector)[0]\n",
        "\n",
        "    print(\" Review:\", review)\n",
        "    print(\" Predicted Sentiment:\", prediction)\n",
        "\n",
        "#  Example:\n",
        "predict_sentiment(\"The movie was amazing and I loved every moment of it!\")\n",
        "\n",
        "#  Or write your own review here:\n",
        "your_sentence = input(\"Write your own review to test: \")\n",
        "predict_sentiment(your_sentence)\n"
      ],
      "metadata": {
        "colab": {
          "base_uri": "https://localhost:8080/"
        },
        "id": "jlPyMsaSiz0D",
        "outputId": "454018d2-19b0-40cf-d468-8b3360bfc952"
      },
      "execution_count": 15,
      "outputs": [
        {
          "output_type": "stream",
          "name": "stdout",
          "text": [
            " Review: The movie was amazing and I loved every moment of it!\n",
            " Predicted Sentiment: positive\n",
            "Write your own review to test: I didn't like the characters or the ending\n",
            " Review: I didn't like the characters or the ending\n",
            " Predicted Sentiment: positive\n"
          ]
        }
      ]
    }
  ]
}