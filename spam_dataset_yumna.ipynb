{
  "nbformat": 4,
  "nbformat_minor": 0,
  "metadata": {
    "colab": {
      "provenance": [],
      "authorship_tag": "ABX9TyOxVTDv3VWu43yU/AQqwO4G",
      "include_colab_link": true
    },
    "kernelspec": {
      "name": "python3",
      "display_name": "Python 3"
    },
    "language_info": {
      "name": "python"
    }
  },
  "cells": [
    {
      "cell_type": "markdown",
      "metadata": {
        "id": "view-in-github",
        "colab_type": "text"
      },
      "source": [
        "<a href=\"https://colab.research.google.com/github/yumnaehab-tech/data-science-projects/blob/main/spam_dataset_yumna.ipynb\" target=\"_parent\"><img src=\"https://colab.research.google.com/assets/colab-badge.svg\" alt=\"Open In Colab\"/></a>"
      ]
    },
    {
      "cell_type": "code",
      "source": [
        "!unzip \"/content/archive (1).zip\" -d /content/\n"
      ],
      "metadata": {
        "colab": {
          "base_uri": "https://localhost:8080/"
        },
        "id": "e_f-LGWZ_5_j",
        "outputId": "5bd5cdf4-a55c-4532-f37a-ac2a471f1d0c"
      },
      "execution_count": null,
      "outputs": [
        {
          "output_type": "stream",
          "name": "stdout",
          "text": [
            "Archive:  /content/archive (1).zip\n",
            "  inflating: /content/spam.csv       \n"
          ]
        }
      ]
    },
    {
      "cell_type": "code",
      "source": [
        "import os\n",
        "print(os.listdir(\"/content\"))\n"
      ],
      "metadata": {
        "colab": {
          "base_uri": "https://localhost:8080/"
        },
        "id": "zWyAegXw_-jK",
        "outputId": "a2c39e3e-7bbf-4002-cbbe-4ef11dd58cc4"
      },
      "execution_count": null,
      "outputs": [
        {
          "output_type": "stream",
          "name": "stdout",
          "text": [
            "['.config', 'archive (1).zip', 'spam.csv', 'sample_data']\n"
          ]
        }
      ]
    },
    {
      "cell_type": "code",
      "source": [
        "import pandas as pd\n",
        "\n",
        "data = pd.read_csv(\"/content/spam.csv\", encoding='latin-1')\n",
        "print(data.head())\n"
      ],
      "metadata": {
        "colab": {
          "base_uri": "https://localhost:8080/"
        },
        "id": "SMu_sRCiBc5g",
        "outputId": "15f3446c-f4a0-4a95-d476-77e2a76bc3db"
      },
      "execution_count": null,
      "outputs": [
        {
          "output_type": "stream",
          "name": "stdout",
          "text": [
            "     v1                                                 v2 Unnamed: 2  \\\n",
            "0   ham  Go until jurong point, crazy.. Available only ...        NaN   \n",
            "1   ham                      Ok lar... Joking wif u oni...        NaN   \n",
            "2  spam  Free entry in 2 a wkly comp to win FA Cup fina...        NaN   \n",
            "3   ham  U dun say so early hor... U c already then say...        NaN   \n",
            "4   ham  Nah I don't think he goes to usf, he lives aro...        NaN   \n",
            "\n",
            "  Unnamed: 3 Unnamed: 4  \n",
            "0        NaN        NaN  \n",
            "1        NaN        NaN  \n",
            "2        NaN        NaN  \n",
            "3        NaN        NaN  \n",
            "4        NaN        NaN  \n"
          ]
        }
      ]
    },
    {
      "cell_type": "code",
      "source": [
        "# ==========================================\n",
        "# Spam Email Detection using Logistic Regression\n",
        "# Created by Yumna Ehab\n",
        "# ==========================================\n",
        "\n",
        "# Step 1: Basic imports\n",
        "import pandas as pd\n",
        "from sklearn.model_selection import train_test_split\n",
        "from sklearn.feature_extraction.text import TfidfVectorizer\n",
        "from sklearn.linear_model import LogisticRegression\n",
        "from sklearn.metrics import accuracy_score, classification_report\n",
        "\n",
        "# Step 2: Load dataset\n",
        "# (We already uploaded spam.csv)\n",
        "data = pd.read_csv(\"/content/spam.csv\", encoding='latin-1')\n",
        "\n",
        "# Quick look at the data\n",
        "print(\"Data shape:\", data.shape)\n",
        "print(data.head(2))\n",
        "\n",
        "# Step 3: Clean the dataset\n",
        "# Some columns are extra, so we'll only keep the main two\n",
        "data = data[['v1', 'v2']]\n",
        "data.columns = ['label', 'message']\n",
        "\n",
        "# Convert labels to numbers: ham=0, spam=1\n",
        "data['label'] = data['label'].map({'ham': 0, 'spam': 1})\n",
        "\n",
        "# Step 4: Split data\n",
        "X_train, X_test, y_train, y_test = train_test_split(\n",
        "    data['message'], data['label'], test_size=0.2, random_state=42\n",
        ")\n",
        "\n",
        "# Step 5: Convert text to numerical form (TF-IDF)\n",
        "vectorizer = TfidfVectorizer(stop_words='english', max_df=0.8)\n",
        "X_train_tfidf = vectorizer.fit_transform(X_train)\n",
        "X_test_tfidf = vectorizer.transform(X_test)\n",
        "\n",
        "# Step 6: Train the model\n",
        "model = LogisticRegression()\n",
        "model.fit(X_train_tfidf, y_train)\n",
        "\n",
        "# Step 7: Predict and evaluate\n",
        "y_pred = model.predict(X_test_tfidf)\n",
        "\n",
        "accuracy = accuracy_score(y_test, y_pred)\n",
        "print(\"\\nModel Accuracy:\", round(accuracy * 100, 2), \"%\")\n",
        "print(\"\\nClassification Report:\\n\", classification_report(y_test, y_pred))\n",
        "\n",
        "# Step 8: Try a few sample predictions\n",
        "sample_messages = [\n",
        "    \"Congratulations! You've won a $1000 Walmart gift card. Click to claim!\",\n",
        "    \"Hey, can we meet tomorrow at 10?\",\n",
        "    \"URGENT! Your account has been suspended. Verify now.\"\n",
        "]\n",
        "\n",
        "sample_features = vectorizer.transform(sample_messages)\n",
        "predictions = model.predict(sample_features)\n",
        "\n",
        "for msg, pred in zip(sample_messages, predictions):\n",
        "    print(f\"\\nMessage: {msg}\")\n",
        "    print(\"Prediction:\", \"SPAM 🚫\" if pred == 1 else \"HAM ✅\")\n",
        "\n",
        "# Step 9: Summary\n",
        "print(\"\\nThe model works well for detecting spam messages using text features.\")\n",
        "print(\"Next step: try Naive Bayes or SVM to compare results.\")\n"
      ],
      "metadata": {
        "colab": {
          "base_uri": "https://localhost:8080/"
        },
        "id": "hWFhkQf5Bs2C",
        "outputId": "f0f83517-b25c-46ee-e6d1-306f5690e1f1"
      },
      "execution_count": null,
      "outputs": [
        {
          "output_type": "stream",
          "name": "stdout",
          "text": [
            "Data shape: (5572, 5)\n",
            "    v1                                                 v2 Unnamed: 2  \\\n",
            "0  ham  Go until jurong point, crazy.. Available only ...        NaN   \n",
            "1  ham                      Ok lar... Joking wif u oni...        NaN   \n",
            "\n",
            "  Unnamed: 3 Unnamed: 4  \n",
            "0        NaN        NaN  \n",
            "1        NaN        NaN  \n",
            "\n",
            "Model Accuracy: 95.25 %\n",
            "\n",
            "Classification Report:\n",
            "               precision    recall  f1-score   support\n",
            "\n",
            "           0       0.95      1.00      0.97       965\n",
            "           1       0.97      0.67      0.79       150\n",
            "\n",
            "    accuracy                           0.95      1115\n",
            "   macro avg       0.96      0.83      0.88      1115\n",
            "weighted avg       0.95      0.95      0.95      1115\n",
            "\n",
            "\n",
            "Message: Congratulations! You've won a $1000 Walmart gift card. Click to claim!\n",
            "Prediction: SPAM 🚫\n",
            "\n",
            "Message: Hey, can we meet tomorrow at 10?\n",
            "Prediction: HAM ✅\n",
            "\n",
            "Message: URGENT! Your account has been suspended. Verify now.\n",
            "Prediction: HAM ✅\n",
            "\n",
            "The model works well for detecting spam messages using text features.\n",
            "Next step: try Naive Bayes or SVM to compare results.\n"
          ]
        }
      ]
    }
  ]
}